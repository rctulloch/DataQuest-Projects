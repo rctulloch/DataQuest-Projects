{
 "cells": [
  {
   "cell_type": "markdown",
   "metadata": {
    "collapsed": true
   },
   "source": [
    "# Finding the Best Markets to Advertise in\n",
    "A DataQuest Guided Project"
   ]
  },
  {
   "cell_type": "markdown",
   "metadata": {},
   "source": [
    "### The Question:\n",
    "What are the two best markets to advertise in for an e-learning company that offers courses on programming?\n",
    "\n",
    "Courses are mostly web and mobile development with some data science and game development."
   ]
  },
  {
   "cell_type": "markdown",
   "metadata": {},
   "source": [
    "### The Data\n",
    "The data is taken from a [survey](https://medium.freecodecamp.org/we-asked-20-000-people-who-they-are-and-how-theyre-learning-to-code-fff5d668969) conducted by freeCodeCamp in 2017. The results of which are publicly available on [GitHub](https://github.com/freeCodeCamp/2017-new-coder-survey)"
   ]
  },
  {
   "cell_type": "code",
   "execution_count": 1,
   "metadata": {
    "collapsed": true
   },
   "outputs": [],
   "source": [
    "import pandas as pd"
   ]
  },
  {
   "cell_type": "code",
   "execution_count": 2,
   "metadata": {
    "collapsed": false
   },
   "outputs": [
    {
     "data": {
      "text/plain": [
       "(18175, 136)"
      ]
     },
     "execution_count": 2,
     "metadata": {},
     "output_type": "execute_result"
    }
   ],
   "source": [
    "survey = pd.read_csv('2017-fCC-New-Coders-Survey-Data.csv', low_memory = False)\n",
    "survey.shape"
   ]
  },
  {
   "cell_type": "code",
   "execution_count": 3,
   "metadata": {
    "collapsed": false
   },
   "outputs": [
    {
     "data": {
      "text/html": [
       "<div>\n",
       "<style scoped>\n",
       "    .dataframe tbody tr th:only-of-type {\n",
       "        vertical-align: middle;\n",
       "    }\n",
       "\n",
       "    .dataframe tbody tr th {\n",
       "        vertical-align: top;\n",
       "    }\n",
       "\n",
       "    .dataframe thead th {\n",
       "        text-align: right;\n",
       "    }\n",
       "</style>\n",
       "<table border=\"1\" class=\"dataframe\">\n",
       "  <thead>\n",
       "    <tr style=\"text-align: right;\">\n",
       "      <th></th>\n",
       "      <th>Age</th>\n",
       "      <th>AttendedBootcamp</th>\n",
       "      <th>BootcampFinish</th>\n",
       "      <th>BootcampLoanYesNo</th>\n",
       "      <th>BootcampName</th>\n",
       "      <th>BootcampRecommend</th>\n",
       "      <th>ChildrenNumber</th>\n",
       "      <th>CityPopulation</th>\n",
       "      <th>CodeEventConferences</th>\n",
       "      <th>CodeEventDjangoGirls</th>\n",
       "      <th>...</th>\n",
       "      <th>YouTubeFCC</th>\n",
       "      <th>YouTubeFunFunFunction</th>\n",
       "      <th>YouTubeGoogleDev</th>\n",
       "      <th>YouTubeLearnCode</th>\n",
       "      <th>YouTubeLevelUpTuts</th>\n",
       "      <th>YouTubeMIT</th>\n",
       "      <th>YouTubeMozillaHacks</th>\n",
       "      <th>YouTubeOther</th>\n",
       "      <th>YouTubeSimplilearn</th>\n",
       "      <th>YouTubeTheNewBoston</th>\n",
       "    </tr>\n",
       "  </thead>\n",
       "  <tbody>\n",
       "    <tr>\n",
       "      <th>0</th>\n",
       "      <td>27.0</td>\n",
       "      <td>0.0</td>\n",
       "      <td>NaN</td>\n",
       "      <td>NaN</td>\n",
       "      <td>NaN</td>\n",
       "      <td>NaN</td>\n",
       "      <td>NaN</td>\n",
       "      <td>more than 1 million</td>\n",
       "      <td>NaN</td>\n",
       "      <td>NaN</td>\n",
       "      <td>...</td>\n",
       "      <td>NaN</td>\n",
       "      <td>NaN</td>\n",
       "      <td>NaN</td>\n",
       "      <td>NaN</td>\n",
       "      <td>NaN</td>\n",
       "      <td>NaN</td>\n",
       "      <td>NaN</td>\n",
       "      <td>NaN</td>\n",
       "      <td>NaN</td>\n",
       "      <td>NaN</td>\n",
       "    </tr>\n",
       "    <tr>\n",
       "      <th>1</th>\n",
       "      <td>34.0</td>\n",
       "      <td>0.0</td>\n",
       "      <td>NaN</td>\n",
       "      <td>NaN</td>\n",
       "      <td>NaN</td>\n",
       "      <td>NaN</td>\n",
       "      <td>NaN</td>\n",
       "      <td>less than 100,000</td>\n",
       "      <td>NaN</td>\n",
       "      <td>NaN</td>\n",
       "      <td>...</td>\n",
       "      <td>1.0</td>\n",
       "      <td>NaN</td>\n",
       "      <td>NaN</td>\n",
       "      <td>NaN</td>\n",
       "      <td>NaN</td>\n",
       "      <td>NaN</td>\n",
       "      <td>NaN</td>\n",
       "      <td>NaN</td>\n",
       "      <td>NaN</td>\n",
       "      <td>NaN</td>\n",
       "    </tr>\n",
       "    <tr>\n",
       "      <th>2</th>\n",
       "      <td>21.0</td>\n",
       "      <td>0.0</td>\n",
       "      <td>NaN</td>\n",
       "      <td>NaN</td>\n",
       "      <td>NaN</td>\n",
       "      <td>NaN</td>\n",
       "      <td>NaN</td>\n",
       "      <td>more than 1 million</td>\n",
       "      <td>NaN</td>\n",
       "      <td>NaN</td>\n",
       "      <td>...</td>\n",
       "      <td>NaN</td>\n",
       "      <td>NaN</td>\n",
       "      <td>NaN</td>\n",
       "      <td>1.0</td>\n",
       "      <td>1.0</td>\n",
       "      <td>NaN</td>\n",
       "      <td>NaN</td>\n",
       "      <td>NaN</td>\n",
       "      <td>NaN</td>\n",
       "      <td>NaN</td>\n",
       "    </tr>\n",
       "  </tbody>\n",
       "</table>\n",
       "<p>3 rows × 136 columns</p>\n",
       "</div>"
      ],
      "text/plain": [
       "    Age  AttendedBootcamp  BootcampFinish  BootcampLoanYesNo BootcampName  \\\n",
       "0  27.0               0.0             NaN                NaN          NaN   \n",
       "1  34.0               0.0             NaN                NaN          NaN   \n",
       "2  21.0               0.0             NaN                NaN          NaN   \n",
       "\n",
       "   BootcampRecommend  ChildrenNumber       CityPopulation  \\\n",
       "0                NaN             NaN  more than 1 million   \n",
       "1                NaN             NaN    less than 100,000   \n",
       "2                NaN             NaN  more than 1 million   \n",
       "\n",
       "   CodeEventConferences  CodeEventDjangoGirls         ...           \\\n",
       "0                   NaN                   NaN         ...            \n",
       "1                   NaN                   NaN         ...            \n",
       "2                   NaN                   NaN         ...            \n",
       "\n",
       "   YouTubeFCC  YouTubeFunFunFunction  YouTubeGoogleDev  YouTubeLearnCode  \\\n",
       "0         NaN                    NaN               NaN               NaN   \n",
       "1         1.0                    NaN               NaN               NaN   \n",
       "2         NaN                    NaN               NaN               1.0   \n",
       "\n",
       "   YouTubeLevelUpTuts  YouTubeMIT  YouTubeMozillaHacks YouTubeOther  \\\n",
       "0                 NaN         NaN                  NaN          NaN   \n",
       "1                 NaN         NaN                  NaN          NaN   \n",
       "2                 1.0         NaN                  NaN          NaN   \n",
       "\n",
       "   YouTubeSimplilearn  YouTubeTheNewBoston  \n",
       "0                 NaN                  NaN  \n",
       "1                 NaN                  NaN  \n",
       "2                 NaN                  NaN  \n",
       "\n",
       "[3 rows x 136 columns]"
      ]
     },
     "execution_count": 3,
     "metadata": {},
     "output_type": "execute_result"
    }
   ],
   "source": [
    "survey.head(3)"
   ]
  },
  {
   "cell_type": "code",
   "execution_count": 4,
   "metadata": {
    "collapsed": false
   },
   "outputs": [
    {
     "data": {
      "text/html": [
       "<div>\n",
       "<style scoped>\n",
       "    .dataframe tbody tr th:only-of-type {\n",
       "        vertical-align: middle;\n",
       "    }\n",
       "\n",
       "    .dataframe tbody tr th {\n",
       "        vertical-align: top;\n",
       "    }\n",
       "\n",
       "    .dataframe thead th {\n",
       "        text-align: right;\n",
       "    }\n",
       "</style>\n",
       "<table border=\"1\" class=\"dataframe\">\n",
       "  <thead>\n",
       "    <tr style=\"text-align: right;\">\n",
       "      <th></th>\n",
       "      <th>Age</th>\n",
       "      <th>AttendedBootcamp</th>\n",
       "      <th>BootcampFinish</th>\n",
       "      <th>BootcampLoanYesNo</th>\n",
       "      <th>BootcampRecommend</th>\n",
       "      <th>ChildrenNumber</th>\n",
       "      <th>CodeEventConferences</th>\n",
       "      <th>CodeEventDjangoGirls</th>\n",
       "      <th>CodeEventFCC</th>\n",
       "      <th>CodeEventGameJam</th>\n",
       "      <th>...</th>\n",
       "      <th>YouTubeEngineeredTruth</th>\n",
       "      <th>YouTubeFCC</th>\n",
       "      <th>YouTubeFunFunFunction</th>\n",
       "      <th>YouTubeGoogleDev</th>\n",
       "      <th>YouTubeLearnCode</th>\n",
       "      <th>YouTubeLevelUpTuts</th>\n",
       "      <th>YouTubeMIT</th>\n",
       "      <th>YouTubeMozillaHacks</th>\n",
       "      <th>YouTubeSimplilearn</th>\n",
       "      <th>YouTubeTheNewBoston</th>\n",
       "    </tr>\n",
       "  </thead>\n",
       "  <tbody>\n",
       "    <tr>\n",
       "      <th>count</th>\n",
       "      <td>15367.000000</td>\n",
       "      <td>17709.000000</td>\n",
       "      <td>1069.000000</td>\n",
       "      <td>1079.000000</td>\n",
       "      <td>1073.000000</td>\n",
       "      <td>2314.000000</td>\n",
       "      <td>1609.0</td>\n",
       "      <td>165.0</td>\n",
       "      <td>1708.0</td>\n",
       "      <td>290.0</td>\n",
       "      <td>...</td>\n",
       "      <td>993.0</td>\n",
       "      <td>6036.0</td>\n",
       "      <td>1261.0</td>\n",
       "      <td>3539.0</td>\n",
       "      <td>2662.0</td>\n",
       "      <td>1396.0</td>\n",
       "      <td>3327.0</td>\n",
       "      <td>622.0</td>\n",
       "      <td>201.0</td>\n",
       "      <td>2960.0</td>\n",
       "    </tr>\n",
       "    <tr>\n",
       "      <th>mean</th>\n",
       "      <td>27.691872</td>\n",
       "      <td>0.062002</td>\n",
       "      <td>0.699719</td>\n",
       "      <td>0.305839</td>\n",
       "      <td>0.818267</td>\n",
       "      <td>1.832325</td>\n",
       "      <td>1.0</td>\n",
       "      <td>1.0</td>\n",
       "      <td>1.0</td>\n",
       "      <td>1.0</td>\n",
       "      <td>...</td>\n",
       "      <td>1.0</td>\n",
       "      <td>1.0</td>\n",
       "      <td>1.0</td>\n",
       "      <td>1.0</td>\n",
       "      <td>1.0</td>\n",
       "      <td>1.0</td>\n",
       "      <td>1.0</td>\n",
       "      <td>1.0</td>\n",
       "      <td>1.0</td>\n",
       "      <td>1.0</td>\n",
       "    </tr>\n",
       "    <tr>\n",
       "      <th>std</th>\n",
       "      <td>8.559239</td>\n",
       "      <td>0.241167</td>\n",
       "      <td>0.458594</td>\n",
       "      <td>0.460975</td>\n",
       "      <td>0.385805</td>\n",
       "      <td>0.972813</td>\n",
       "      <td>0.0</td>\n",
       "      <td>0.0</td>\n",
       "      <td>0.0</td>\n",
       "      <td>0.0</td>\n",
       "      <td>...</td>\n",
       "      <td>0.0</td>\n",
       "      <td>0.0</td>\n",
       "      <td>0.0</td>\n",
       "      <td>0.0</td>\n",
       "      <td>0.0</td>\n",
       "      <td>0.0</td>\n",
       "      <td>0.0</td>\n",
       "      <td>0.0</td>\n",
       "      <td>0.0</td>\n",
       "      <td>0.0</td>\n",
       "    </tr>\n",
       "    <tr>\n",
       "      <th>min</th>\n",
       "      <td>0.000000</td>\n",
       "      <td>0.000000</td>\n",
       "      <td>0.000000</td>\n",
       "      <td>0.000000</td>\n",
       "      <td>0.000000</td>\n",
       "      <td>1.000000</td>\n",
       "      <td>1.0</td>\n",
       "      <td>1.0</td>\n",
       "      <td>1.0</td>\n",
       "      <td>1.0</td>\n",
       "      <td>...</td>\n",
       "      <td>1.0</td>\n",
       "      <td>1.0</td>\n",
       "      <td>1.0</td>\n",
       "      <td>1.0</td>\n",
       "      <td>1.0</td>\n",
       "      <td>1.0</td>\n",
       "      <td>1.0</td>\n",
       "      <td>1.0</td>\n",
       "      <td>1.0</td>\n",
       "      <td>1.0</td>\n",
       "    </tr>\n",
       "    <tr>\n",
       "      <th>25%</th>\n",
       "      <td>22.000000</td>\n",
       "      <td>0.000000</td>\n",
       "      <td>0.000000</td>\n",
       "      <td>0.000000</td>\n",
       "      <td>1.000000</td>\n",
       "      <td>1.000000</td>\n",
       "      <td>1.0</td>\n",
       "      <td>1.0</td>\n",
       "      <td>1.0</td>\n",
       "      <td>1.0</td>\n",
       "      <td>...</td>\n",
       "      <td>1.0</td>\n",
       "      <td>1.0</td>\n",
       "      <td>1.0</td>\n",
       "      <td>1.0</td>\n",
       "      <td>1.0</td>\n",
       "      <td>1.0</td>\n",
       "      <td>1.0</td>\n",
       "      <td>1.0</td>\n",
       "      <td>1.0</td>\n",
       "      <td>1.0</td>\n",
       "    </tr>\n",
       "    <tr>\n",
       "      <th>50%</th>\n",
       "      <td>26.000000</td>\n",
       "      <td>0.000000</td>\n",
       "      <td>1.000000</td>\n",
       "      <td>0.000000</td>\n",
       "      <td>1.000000</td>\n",
       "      <td>2.000000</td>\n",
       "      <td>1.0</td>\n",
       "      <td>1.0</td>\n",
       "      <td>1.0</td>\n",
       "      <td>1.0</td>\n",
       "      <td>...</td>\n",
       "      <td>1.0</td>\n",
       "      <td>1.0</td>\n",
       "      <td>1.0</td>\n",
       "      <td>1.0</td>\n",
       "      <td>1.0</td>\n",
       "      <td>1.0</td>\n",
       "      <td>1.0</td>\n",
       "      <td>1.0</td>\n",
       "      <td>1.0</td>\n",
       "      <td>1.0</td>\n",
       "    </tr>\n",
       "    <tr>\n",
       "      <th>75%</th>\n",
       "      <td>32.000000</td>\n",
       "      <td>0.000000</td>\n",
       "      <td>1.000000</td>\n",
       "      <td>1.000000</td>\n",
       "      <td>1.000000</td>\n",
       "      <td>2.000000</td>\n",
       "      <td>1.0</td>\n",
       "      <td>1.0</td>\n",
       "      <td>1.0</td>\n",
       "      <td>1.0</td>\n",
       "      <td>...</td>\n",
       "      <td>1.0</td>\n",
       "      <td>1.0</td>\n",
       "      <td>1.0</td>\n",
       "      <td>1.0</td>\n",
       "      <td>1.0</td>\n",
       "      <td>1.0</td>\n",
       "      <td>1.0</td>\n",
       "      <td>1.0</td>\n",
       "      <td>1.0</td>\n",
       "      <td>1.0</td>\n",
       "    </tr>\n",
       "    <tr>\n",
       "      <th>max</th>\n",
       "      <td>90.000000</td>\n",
       "      <td>1.000000</td>\n",
       "      <td>1.000000</td>\n",
       "      <td>1.000000</td>\n",
       "      <td>1.000000</td>\n",
       "      <td>9.000000</td>\n",
       "      <td>1.0</td>\n",
       "      <td>1.0</td>\n",
       "      <td>1.0</td>\n",
       "      <td>1.0</td>\n",
       "      <td>...</td>\n",
       "      <td>1.0</td>\n",
       "      <td>1.0</td>\n",
       "      <td>1.0</td>\n",
       "      <td>1.0</td>\n",
       "      <td>1.0</td>\n",
       "      <td>1.0</td>\n",
       "      <td>1.0</td>\n",
       "      <td>1.0</td>\n",
       "      <td>1.0</td>\n",
       "      <td>1.0</td>\n",
       "    </tr>\n",
       "  </tbody>\n",
       "</table>\n",
       "<p>8 rows × 105 columns</p>\n",
       "</div>"
      ],
      "text/plain": [
       "                Age  AttendedBootcamp  BootcampFinish  BootcampLoanYesNo  \\\n",
       "count  15367.000000      17709.000000     1069.000000        1079.000000   \n",
       "mean      27.691872          0.062002        0.699719           0.305839   \n",
       "std        8.559239          0.241167        0.458594           0.460975   \n",
       "min        0.000000          0.000000        0.000000           0.000000   \n",
       "25%       22.000000          0.000000        0.000000           0.000000   \n",
       "50%       26.000000          0.000000        1.000000           0.000000   \n",
       "75%       32.000000          0.000000        1.000000           1.000000   \n",
       "max       90.000000          1.000000        1.000000           1.000000   \n",
       "\n",
       "       BootcampRecommend  ChildrenNumber  CodeEventConferences  \\\n",
       "count        1073.000000     2314.000000                1609.0   \n",
       "mean            0.818267        1.832325                   1.0   \n",
       "std             0.385805        0.972813                   0.0   \n",
       "min             0.000000        1.000000                   1.0   \n",
       "25%             1.000000        1.000000                   1.0   \n",
       "50%             1.000000        2.000000                   1.0   \n",
       "75%             1.000000        2.000000                   1.0   \n",
       "max             1.000000        9.000000                   1.0   \n",
       "\n",
       "       CodeEventDjangoGirls  CodeEventFCC  CodeEventGameJam  \\\n",
       "count                 165.0        1708.0             290.0   \n",
       "mean                    1.0           1.0               1.0   \n",
       "std                     0.0           0.0               0.0   \n",
       "min                     1.0           1.0               1.0   \n",
       "25%                     1.0           1.0               1.0   \n",
       "50%                     1.0           1.0               1.0   \n",
       "75%                     1.0           1.0               1.0   \n",
       "max                     1.0           1.0               1.0   \n",
       "\n",
       "              ...           YouTubeEngineeredTruth  YouTubeFCC  \\\n",
       "count         ...                            993.0      6036.0   \n",
       "mean          ...                              1.0         1.0   \n",
       "std           ...                              0.0         0.0   \n",
       "min           ...                              1.0         1.0   \n",
       "25%           ...                              1.0         1.0   \n",
       "50%           ...                              1.0         1.0   \n",
       "75%           ...                              1.0         1.0   \n",
       "max           ...                              1.0         1.0   \n",
       "\n",
       "       YouTubeFunFunFunction  YouTubeGoogleDev  YouTubeLearnCode  \\\n",
       "count                 1261.0            3539.0            2662.0   \n",
       "mean                     1.0               1.0               1.0   \n",
       "std                      0.0               0.0               0.0   \n",
       "min                      1.0               1.0               1.0   \n",
       "25%                      1.0               1.0               1.0   \n",
       "50%                      1.0               1.0               1.0   \n",
       "75%                      1.0               1.0               1.0   \n",
       "max                      1.0               1.0               1.0   \n",
       "\n",
       "       YouTubeLevelUpTuts  YouTubeMIT  YouTubeMozillaHacks  \\\n",
       "count              1396.0      3327.0                622.0   \n",
       "mean                  1.0         1.0                  1.0   \n",
       "std                   0.0         0.0                  0.0   \n",
       "min                   1.0         1.0                  1.0   \n",
       "25%                   1.0         1.0                  1.0   \n",
       "50%                   1.0         1.0                  1.0   \n",
       "75%                   1.0         1.0                  1.0   \n",
       "max                   1.0         1.0                  1.0   \n",
       "\n",
       "       YouTubeSimplilearn  YouTubeTheNewBoston  \n",
       "count               201.0               2960.0  \n",
       "mean                  1.0                  1.0  \n",
       "std                   0.0                  0.0  \n",
       "min                   1.0                  1.0  \n",
       "25%                   1.0                  1.0  \n",
       "50%                   1.0                  1.0  \n",
       "75%                   1.0                  1.0  \n",
       "max                   1.0                  1.0  \n",
       "\n",
       "[8 rows x 105 columns]"
      ]
     },
     "execution_count": 4,
     "metadata": {},
     "output_type": "execute_result"
    }
   ],
   "source": [
    "survey.describe()"
   ]
  },
  {
   "cell_type": "markdown",
   "metadata": {},
   "source": [
    "#### Is the data representative?\n",
    "We are interested in those who might be interested in our courses so, those who express an interest in web or mobile development."
   ]
  },
  {
   "cell_type": "code",
   "execution_count": 5,
   "metadata": {
    "collapsed": false
   },
   "outputs": [
    {
     "data": {
      "text/plain": [
       "Full-Stack Web Developer                                                                                                                                                  11.770595\n",
       "  Front-End Web Developer                                                                                                                                                  6.435927\n",
       "  Data Scientist                                                                                                                                                           2.173913\n",
       "Back-End Web Developer                                                                                                                                                     2.030892\n",
       "  Mobile Developer                                                                                                                                                         1.673341\n",
       "Game Developer                                                                                                                                                             1.630435\n",
       "Information Security                                                                                                                                                       1.315789\n",
       "Full-Stack Web Developer,   Front-End Web Developer                                                                                                                        0.915332\n",
       "  Front-End Web Developer, Full-Stack Web Developer                                                                                                                        0.800915\n",
       "  Product Manager                                                                                                                                                          0.786613\n",
       "Data Engineer                                                                                                                                                              0.758009\n",
       "  User Experience Designer                                                                                                                                                 0.743707\n",
       "  User Experience Designer,   Front-End Web Developer                                                                                                                      0.614989\n",
       "  Front-End Web Developer, Back-End Web Developer, Full-Stack Web Developer                                                                                                0.557780\n",
       "  DevOps / SysAdmin                                                                                                                                                        0.514874\n",
       "Back-End Web Developer,   Front-End Web Developer, Full-Stack Web Developer                                                                                                0.514874\n",
       "Back-End Web Developer, Full-Stack Web Developer,   Front-End Web Developer                                                                                                0.514874\n",
       "Full-Stack Web Developer,   Front-End Web Developer, Back-End Web Developer                                                                                                0.443364\n",
       "  Front-End Web Developer, Full-Stack Web Developer, Back-End Web Developer                                                                                                0.429062\n",
       "  Front-End Web Developer,   User Experience Designer                                                                                                                      0.414760\n",
       "Full-Stack Web Developer,   Mobile Developer                                                                                                                               0.414760\n",
       "Back-End Web Developer, Full-Stack Web Developer                                                                                                                           0.386156\n",
       "Full-Stack Web Developer, Back-End Web Developer                                                                                                                           0.371854\n",
       "Back-End Web Developer,   Front-End Web Developer                                                                                                                          0.286041\n",
       "Data Engineer,   Data Scientist                                                                                                                                            0.271739\n",
       "Full-Stack Web Developer, Back-End Web Developer,   Front-End Web Developer                                                                                                0.271739\n",
       "  Front-End Web Developer,   Mobile Developer                                                                                                                              0.257437\n",
       "Full-Stack Web Developer,   Data Scientist                                                                                                                                 0.243135\n",
       "  Mobile Developer, Game Developer                                                                                                                                         0.228833\n",
       "  Data Scientist, Data Engineer                                                                                                                                            0.228833\n",
       "                                                                                                                                                                            ...    \n",
       "Full-Stack Web Developer, Back-End Web Developer,   Front-End Web Developer,   User Experience Designer, Game Developer                                                    0.014302\n",
       "Data Engineer, Full-Stack Web Developer,   Data Scientist,   User Experience Designer                                                                                      0.014302\n",
       "  Front-End Web Developer, Game Developer,   Mobile Developer, Back-End Web Developer, Full-Stack Web Developer                                                            0.014302\n",
       "Back-End Web Developer,   DevOps / SysAdmin,   Data Scientist                                                                                                              0.014302\n",
       "Game Developer,   Front-End Web Developer,   Mobile Developer, Full-Stack Web Developer                                                                                    0.014302\n",
       "  Data Scientist, Full-Stack Web Developer,   Product Manager,   Mobile Developer                                                                                          0.014302\n",
       "Back-End Web Developer, Information Security, Full-Stack Web Developer,   Front-End Web Developer, Data Engineer                                                           0.014302\n",
       "Game Developer,   DevOps / SysAdmin,   Mobile Developer,   Front-End Web Developer, Full-Stack Web Developer, Back-End Web Developer                                       0.014302\n",
       "Information Security, Data Engineer, Back-End Web Developer, Full-Stack Web Developer,   Product Manager,   Data Scientist                                                 0.014302\n",
       "Full-Stack Web Developer,   Front-End Web Developer,   Data Scientist, Back-End Web Developer,   Quality Assurance Engineer,   Mobile Developer                            0.014302\n",
       "  Product Manager,   Front-End Web Developer, Back-End Web Developer,   Data Scientist, Full-Stack Web Developer,   DevOps / SysAdmin                                      0.014302\n",
       "Back-End Web Developer,   Mobile Developer, Data Engineer, Full-Stack Web Developer,   Front-End Web Developer                                                             0.014302\n",
       "  Data Scientist,   Front-End Web Developer,   Quality Assurance Engineer, Full-Stack Web Developer,   User Experience Designer, Back-End Web Developer, Data Engineer     0.014302\n",
       "  Front-End Web Developer, Full-Stack Web Developer,   Quality Assurance Engineer                                                                                          0.014302\n",
       "  Front-End Web Developer, Back-End Web Developer,   Product Manager,   User Experience Designer, Full-Stack Web Developer                                                 0.014302\n",
       "  Front-End Web Developer, Data Engineer, Full-Stack Web Developer, Back-End Web Developer                                                                                 0.014302\n",
       "philosopher                                                                                                                                                                0.014302\n",
       "  Data Scientist, Information Security, Back-End Web Developer, Game Developer                                                                                             0.014302\n",
       "  Data Scientist, Information Security, Back-End Web Developer                                                                                                             0.014302\n",
       "  Data Scientist, Game Developer, Back-End Web Developer, Full-Stack Web Developer                                                                                         0.014302\n",
       "Data Engineer, Game Developer,   Data Scientist, Back-End Web Developer,   Front-End Web Developer, Full-Stack Web Developer,   User Experience Designer                   0.014302\n",
       "Back-End Web Developer,   Front-End Web Developer, Data Engineer,   Data Scientist, Full-Stack Web Developer                                                               0.014302\n",
       "Game Developer,   Front-End Web Developer,   User Experience Designer,   Product Manager,   Mobile Developer                                                               0.014302\n",
       "  Quality Assurance Engineer, Back-End Web Developer,   Mobile Developer                                                                                                   0.014302\n",
       "  User Experience Designer,   Front-End Web Developer, Game Developer,   Mobile Developer                                                                                  0.014302\n",
       "Game Developer, Full-Stack Web Developer, Software Developer                                                                                                               0.014302\n",
       "  Product Manager, Full-Stack Web Developer, Game Developer,   Mobile Developer                                                                                            0.014302\n",
       "  Data Scientist,   DevOps / SysAdmin, Back-End Web Developer, Data Engineer                                                                                               0.014302\n",
       "  Quality Assurance Engineer,   Mobile Developer, Full-Stack Web Developer,   Front-End Web Developer, Information Security, Back-End Web Developer,   Product Manager     0.014302\n",
       "  Front-End Web Developer, Data Engineer, Back-End Web Developer,   Quality Assurance Engineer                                                                             0.014302\n",
       "Name: JobRoleInterest, Length: 3213, dtype: float64"
      ]
     },
     "execution_count": 5,
     "metadata": {},
     "output_type": "execute_result"
    }
   ],
   "source": [
    "survey['JobRoleInterest'].value_counts(normalize = True)*100"
   ]
  },
  {
   "cell_type": "markdown",
   "metadata": {},
   "source": [
    "Many people are interested in Front-End, Back-End or Full-Stack Web Development.\n",
    "Many are interested in multiple disciplines. In the first intance it certainly looks like lots are interested in our subject areas. Lets find out exactly how many..."
   ]
  },
  {
   "cell_type": "code",
   "execution_count": 6,
   "metadata": {
    "collapsed": false
   },
   "outputs": [],
   "source": [
    "Interests = survey['JobRoleInterest'].dropna() #to avoid errors\n",
    "Interests['Full'] = survey['JobRoleInterest'].dropna()"
   ]
  },
  {
   "cell_type": "code",
   "execution_count": 7,
   "metadata": {
    "collapsed": false
   },
   "outputs": [
    {
     "data": {
      "text/plain": [
       "{'Both': 2050, 'Mobile': 254, 'None': 958, 'Web': 3730}"
      ]
     },
     "execution_count": 7,
     "metadata": {},
     "output_type": "execute_result"
    }
   ],
   "source": [
    "WebMob = {'Both': 0,\n",
    "         'Web': 0,\n",
    "         'Mobile': 0,\n",
    "         'None': 0}\n",
    "\n",
    "for string in Interests['Full']:\n",
    "    if 'Web' in string and 'Mobile' in string:\n",
    "        WebMob['Both'] += 1\n",
    "    elif 'Web' in string:\n",
    "        WebMob['Web'] += 1\n",
    "    elif 'Mobile' in string:\n",
    "        WebMob['Mobile'] += 1\n",
    "    else:\n",
    "        WebMob['None'] += 1\n",
    "        \n",
    "WebMob"
   ]
  },
  {
   "cell_type": "code",
   "execution_count": 8,
   "metadata": {
    "collapsed": false
   },
   "outputs": [
    {
     "data": {
      "text/plain": [
       "True"
      ]
     },
     "execution_count": 8,
     "metadata": {},
     "output_type": "execute_result"
    }
   ],
   "source": [
    "#quick checksum\n",
    "len(Interests['Full']) == sum(WebMob.values())"
   ]
  },
  {
   "cell_type": "code",
   "execution_count": 9,
   "metadata": {
    "collapsed": true
   },
   "outputs": [],
   "source": [
    "import matplotlib.pyplot as plt\n",
    "%matplotlib inline"
   ]
  },
  {
   "cell_type": "code",
   "execution_count": 10,
   "metadata": {
    "collapsed": false
   },
   "outputs": [
    {
     "data": {
      "text/plain": [
       "([<matplotlib.axis.XTick at 0x7f99995c5be0>,\n",
       "  <matplotlib.axis.XTick at 0x7f99995c52b0>,\n",
       "  <matplotlib.axis.XTick at 0x7f99995b8be0>,\n",
       "  <matplotlib.axis.XTick at 0x7f999959d0b8>],\n",
       " <a list of 4 Text xticklabel objects>)"
      ]
     },
     "execution_count": 10,
     "metadata": {},
     "output_type": "execute_result"
    },
    {
     "data": {
      "image/png": "[encoded data removed]",
      "text/plain": [
       "<matplotlib.figure.Figure at 0x7f999b867470>"
      ]
     },
     "metadata": {},
     "output_type": "display_data"
    }
   ],
   "source": [
    "plt.bar(range(len(WebMob)), list(WebMob.values()), align='center')\n",
    "plt.xticks(range(len(WebMob)), list(WebMob.keys()))"
   ]
  },
  {
   "cell_type": "code",
   "execution_count": 11,
   "metadata": {
    "collapsed": false
   },
   "outputs": [
    {
     "data": {
      "text/plain": [
       "([<matplotlib.patches.Wedge at 0x7f99994a3748>,\n",
       "  <matplotlib.patches.Wedge at 0x7f99994aa940>,\n",
       "  <matplotlib.patches.Wedge at 0x7f99994b1ac8>,\n",
       "  <matplotlib.patches.Wedge at 0x7f99994b6cc0>],\n",
       " [<matplotlib.text.Text at 0x7f99994a3f28>,\n",
       "  <matplotlib.text.Text at 0x7f99994aafd0>,\n",
       "  <matplotlib.text.Text at 0x7f99994b62e8>,\n",
       "  <matplotlib.text.Text at 0x7f99994bd4e0>],\n",
       " [<matplotlib.text.Text at 0x7f99994aa400>,\n",
       "  <matplotlib.text.Text at 0x7f99994b1588>,\n",
       "  <matplotlib.text.Text at 0x7f99994b6780>,\n",
       "  <matplotlib.text.Text at 0x7f99994bd978>])"
      ]
     },
     "execution_count": 11,
     "metadata": {},
     "output_type": "execute_result"
    },
    {
     "data": {
      "image/png": "[encoded data removed]",
      "text/plain": [
       "<matplotlib.figure.Figure at 0x7f99995d50f0>"
      ]
     },
     "metadata": {},
     "output_type": "display_data"
    }
   ],
   "source": [
    "plt.pie(x = list(WebMob.values()), labels = list(WebMob.keys()), autopct = '%1.1f%%')"
   ]
  },
  {
   "cell_type": "markdown",
   "metadata": {},
   "source": [
    "The vast majority are interested in one of the two key topics, only 13.7% are not interested in either of these. Approximately 80% are interested in Web Development among other things.\n",
    "\n",
    "Based on this, this population seems representative for the purposes of our question.\n",
    "\n",
    "We also noticed that many respondents have multiple interests."
   ]
  },
  {
   "cell_type": "markdown",
   "metadata": {},
   "source": [
    "#### How many interests do respondents have?"
   ]
  },
  {
   "cell_type": "code",
   "execution_count": 12,
   "metadata": {
    "collapsed": false
   },
   "outputs": [
    {
     "data": {
      "text/plain": [
       "1                           [Full-Stack Web Developer]\n",
       "2    [  Front-End Web Developer,  Back-End Web Deve...\n",
       "3    [  Front-End Web Developer,  Full-Stack Web De...\n",
       "4    [Full-Stack Web Developer,  Information Securi...\n",
       "6                           [Full-Stack Web Developer]\n",
       "Name: JobRoleInterest, dtype: object"
      ]
     },
     "execution_count": 12,
     "metadata": {},
     "output_type": "execute_result"
    }
   ],
   "source": [
    "Interests['List'] = Interests['Full'].str.split(\",\")\n",
    "Interests['List'].head(5)"
   ]
  },
  {
   "cell_type": "code",
   "execution_count": 13,
   "metadata": {
    "collapsed": false
   },
   "outputs": [
    {
     "data": {
      "text/plain": [
       "1     31.650458\n",
       "2     10.883867\n",
       "3     15.889588\n",
       "4     15.217391\n",
       "5     12.042334\n",
       "6      6.721968\n",
       "7      3.861556\n",
       "8      1.759153\n",
       "9      0.986842\n",
       "10     0.471968\n",
       "11     0.185927\n",
       "12     0.300343\n",
       "13     0.028604\n",
       "Name: JobRoleInterest, dtype: float64"
      ]
     },
     "execution_count": 13,
     "metadata": {},
     "output_type": "execute_result"
    }
   ],
   "source": [
    "Interests['Count'] = Interests['List'].apply(lambda x: len(x))\n",
    "Interests['Count'].value_counts(normalize = True).sort_index() * 100"
   ]
  },
  {
   "cell_type": "code",
   "execution_count": 14,
   "metadata": {
    "collapsed": false
   },
   "outputs": [
    {
     "data": {
      "text/plain": [
       "<matplotlib.legend.Legend at 0x7f9999232c88>"
      ]
     },
     "execution_count": 14,
     "metadata": {},
     "output_type": "execute_result"
    },
    {
     "data": {
      "image/png": "[encoded data removed]",
      "text/plain": [
       "<matplotlib.figure.Figure at 0x7f99994ea5f8>"
      ]
     },
     "metadata": {},
     "output_type": "display_data"
    }
   ],
   "source": [
    "Interests['Count'].hist(bins=13)\n",
    "plt.xlim(1,13)\n",
    "plt.axvline(Interests['Count'].mean(), color = 'Black', label = \"Mean\")\n",
    "plt.axvline(1, color = 'Orange', label = \"Mode\")\n",
    "plt.axvline(Interests['Count'].median(), color = 'Red', label = 'Median')\n",
    "plt.legend()"
   ]
  },
  {
   "cell_type": "markdown",
   "metadata": {},
   "source": [
    "Just under a third of recipients have selected a single subject. 20% have chosen 6 or more subjects. This is good as we offer some courses outside of Web & Mobile development but focus in these areas."
   ]
  },
  {
   "cell_type": "markdown",
   "metadata": {
    "collapsed": true
   },
   "source": [
    "### Participant Demographics"
   ]
  },
  {
   "cell_type": "code",
   "execution_count": 15,
   "metadata": {
    "collapsed": false
   },
   "outputs": [
    {
     "name": "stdout",
     "output_type": "stream",
     "text": [
      "                               CountryCount  CountryPct\n",
      "United States of America               3125   45.700497\n",
      "India                                   528    7.721556\n",
      "United Kingdom                          315    4.606610\n",
      "Canada                                  260    3.802281\n",
      "Poland                                  131    1.915765\n",
      "Brazil                                  129    1.886517\n",
      "Germany                                 125    1.828020\n",
      "Australia                               112    1.637906\n",
      "Russia                                  102    1.491664\n",
      "Ukraine                                  89    1.301550\n",
      "Nigeria                                  84    1.228429\n",
      "Spain                                    77    1.126060\n",
      "France                                   75    1.096812\n",
      "Romania                                  71    1.038315\n",
      "Netherlands (Holland, Europe)            65    0.950570\n",
      "Italy                                    62    0.906698\n",
      "Serbia                                   52    0.760456\n",
      "Philippines                              52    0.760456\n",
      "Greece                                   46    0.672711\n",
      "Ireland                                  43    0.628839\n",
      "South Africa                             39    0.570342\n",
      "Mexico                                   37    0.541094\n",
      "Turkey                                   36    0.526470\n",
      "Singapore                                34    0.497221\n",
      "Hungary                                  34    0.497221\n",
      "New Zealand                              33    0.482597\n",
      "Croatia                                  32    0.467973\n",
      "Argentina                                32    0.467973\n",
      "Sweden                                   31    0.453349\n",
      "Indonesia                                31    0.453349\n",
      "...                                     ...         ...\n",
      "Gibraltar                                 1    0.014624\n",
      "Panama                                    1    0.014624\n",
      "Trinidad & Tobago                         1    0.014624\n",
      "Nicaragua                                 1    0.014624\n",
      "Samoa                                     1    0.014624\n",
      "Cuba                                      1    0.014624\n",
      "Nambia                                    1    0.014624\n",
      "Liberia                                   1    0.014624\n",
      "Qatar                                     1    0.014624\n",
      "Cameroon                                  1    0.014624\n",
      "Somalia                                   1    0.014624\n",
      "Yemen                                     1    0.014624\n",
      "Gambia                                    1    0.014624\n",
      "Anguilla                                  1    0.014624\n",
      "Cayman Islands                            1    0.014624\n",
      "Aruba                                     1    0.014624\n",
      "Vanuatu                                   1    0.014624\n",
      "Turkmenistan                              1    0.014624\n",
      "Kyrgyzstan                                1    0.014624\n",
      "Angola                                    1    0.014624\n",
      "Botswana                                  1    0.014624\n",
      "Sudan                                     1    0.014624\n",
      "Rwanda                                    1    0.014624\n",
      "Guatemala                                 1    0.014624\n",
      "Myanmar                                   1    0.014624\n",
      "Channel Islands                           1    0.014624\n",
      "Mozambique                                1    0.014624\n",
      "Jordan                                    1    0.014624\n",
      "Guadeloupe                                1    0.014624\n",
      "Papua New Guinea                          1    0.014624\n",
      "\n",
      "[137 rows x 2 columns]\n"
     ]
    }
   ],
   "source": [
    "#remove respondents who did not provide a role\n",
    "survey2 = survey[survey['JobRoleInterest'].notnull()].copy()\n",
    "\n",
    "#Investigate where people are from\n",
    "absolute = survey2['CountryLive'].value_counts()\n",
    "relative = survey2['CountryLive'].value_counts(normalize = True) *100\n",
    "\n",
    "countries = pd.DataFrame(data = {\"CountryCount\": absolute, \n",
    "                     \"CountryPct\": relative}\n",
    "            )\n",
    "\n",
    "print(countries)"
   ]
  },
  {
   "cell_type": "code",
   "execution_count": 16,
   "metadata": {
    "collapsed": false
   },
   "outputs": [
    {
     "data": {
      "text/plain": [
       "1       31\n",
       "2       10\n",
       "3        7\n",
       "4        4\n",
       "5        4\n",
       "6        4\n",
       "7        2\n",
       "8        4\n",
       "9        4\n",
       "10       3\n",
       "11       2\n",
       "12       1\n",
       "13       2\n",
       "14       3\n",
       "15       1\n",
       "16       2\n",
       "17       3\n",
       "19       2\n",
       "20       2\n",
       "21       1\n",
       "23       2\n",
       "24       1\n",
       "26       2\n",
       "28       4\n",
       "29       3\n",
       "30       1\n",
       "31       4\n",
       "32       2\n",
       "33       1\n",
       "34       2\n",
       "36       1\n",
       "37       1\n",
       "39       1\n",
       "43       1\n",
       "46       1\n",
       "52       2\n",
       "62       1\n",
       "65       1\n",
       "71       1\n",
       "75       1\n",
       "77       1\n",
       "84       1\n",
       "89       1\n",
       "102      1\n",
       "112      1\n",
       "125      1\n",
       "129      1\n",
       "131      1\n",
       "260      1\n",
       "315      1\n",
       "528      1\n",
       "3125     1\n",
       "Name: CountryCount, dtype: int64"
      ]
     },
     "execution_count": 16,
     "metadata": {},
     "output_type": "execute_result"
    }
   ],
   "source": [
    "countries['CountryCount'].value_counts().sort_index()"
   ]
  },
  {
   "cell_type": "markdown",
   "metadata": {},
   "source": [
    "There are a significant number of countries (41) with only one or two respondents, definitely not a big enough sample size to be representative.\n",
    "\n",
    "Based on the frequency table, the USA and India are the obvious choices for advertising covering just over 50% of all respondents."
   ]
  },
  {
   "cell_type": "markdown",
   "metadata": {},
   "source": [
    "### How much are participants willing to spend?\n",
    "\n",
    "Lets also look at whether or not people are going to be willing to spend money on learning. We will focus in on just 4 countries (USA, UK, India & Canda) which have the highest absolute frequencies and all have a high number of English speakers (our courses are in English)"
   ]
  },
  {
   "cell_type": "code",
   "execution_count": 17,
   "metadata": {
    "collapsed": false
   },
   "outputs": [],
   "source": [
    "countries_of_interest = ['United States of America', 'India', 'United Kingdom', 'Canada']\n",
    "\n",
    "survey3 = survey2[survey2['CountryLive'].isin(countries_of_interest)].copy()"
   ]
  },
  {
   "cell_type": "code",
   "execution_count": 18,
   "metadata": {
    "collapsed": false
   },
   "outputs": [
    {
     "data": {
      "text/plain": [
       "0.0    150\n",
       "1.0    480\n",
       "2.0    401\n",
       "3.0    380\n",
       "4.0    209\n",
       "Name: MonthsProgramming, dtype: int64"
      ]
     },
     "execution_count": 18,
     "metadata": {},
     "output_type": "execute_result"
    }
   ],
   "source": [
    "survey3['MonthsProgramming'].value_counts().sort_index().head()"
   ]
  },
  {
   "cell_type": "code",
   "execution_count": 19,
   "metadata": {
    "collapsed": true
   },
   "outputs": [],
   "source": [
    "# To avoid dividing by zero\n",
    "survey3['MonthsProgramming'].replace(0, 1, inplace = True)\n",
    "\n",
    "# Create Spend per Month column\n",
    "survey3['SpendPerMonth'] = survey3['MoneyForLearning']/survey3['MonthsProgramming']"
   ]
  },
  {
   "cell_type": "code",
   "execution_count": 20,
   "metadata": {
    "collapsed": false
   },
   "outputs": [
    {
     "data": {
      "text/plain": [
       "313"
      ]
     },
     "execution_count": 20,
     "metadata": {},
     "output_type": "execute_result"
    }
   ],
   "source": [
    "#quick check\n",
    "survey3['SpendPerMonth'].isna().sum()"
   ]
  },
  {
   "cell_type": "code",
   "execution_count": 21,
   "metadata": {
    "collapsed": false
   },
   "outputs": [
    {
     "data": {
      "text/plain": [
       "4228"
      ]
     },
     "execution_count": 21,
     "metadata": {},
     "output_type": "execute_result"
    }
   ],
   "source": [
    "len(survey3)"
   ]
  },
  {
   "cell_type": "code",
   "execution_count": 22,
   "metadata": {
    "collapsed": false
   },
   "outputs": [
    {
     "data": {
      "text/plain": [
       "True"
      ]
     },
     "execution_count": 22,
     "metadata": {},
     "output_type": "execute_result"
    }
   ],
   "source": [
    "# Lets remove those\n",
    "survey4 = survey3[survey3['SpendPerMonth'].notnull()]\n",
    "#quick check\n",
    "len(survey4) == 4228 - 313"
   ]
  },
  {
   "cell_type": "code",
   "execution_count": 23,
   "metadata": {
    "collapsed": false
   },
   "outputs": [
    {
     "data": {
      "text/plain": [
       "CountryLive\n",
       "United States of America    227.997996\n",
       "India                       135.100982\n",
       "Canada                      113.510961\n",
       "United Kingdom               45.534443\n",
       "Name: SpendPerMonth, dtype: float64"
      ]
     },
     "execution_count": 23,
     "metadata": {},
     "output_type": "execute_result"
    }
   ],
   "source": [
    "countries_mean = survey4.groupby('CountryLive').mean()\n",
    "countries_mean['SpendPerMonth'].sort_values(ascending = False)"
   ]
  },
  {
   "cell_type": "markdown",
   "metadata": {},
   "source": [
    "The USA and India are still looking very good. Intuitively, I would have expected India to have the lowest spend per month given its GDP. It is possible that there are problems in the data or this could be correct but slightly surprising lets dig a bit deeper."
   ]
  },
  {
   "cell_type": "code",
   "execution_count": 24,
   "metadata": {
    "collapsed": false
   },
   "outputs": [
    {
     "name": "stderr",
     "output_type": "stream",
     "text": [
      "/dataquest/system/env/python3/lib/python3.4/site-packages/seaborn/categorical.py:454: FutureWarning: remove_na is deprecated and is a private function. Do not use.\n",
      "  box_data = remove_na(group_data)\n"
     ]
    },
    {
     "data": {
      "image/png": "[encoded data removed]",
      "text/plain": [
       "<matplotlib.figure.Figure at 0x7f999929a588>"
      ]
     },
     "metadata": {},
     "output_type": "display_data"
    }
   ],
   "source": [
    "import seaborn as sns\n",
    "sns.boxplot(y = 'SpendPerMonth', x = 'CountryLive',\n",
    "            data = survey4)\n",
    "plt.title('Spend Per Month Per Country',\n",
    "         fontsize = 16)\n",
    "plt.ylabel('$ Spend Per Month')\n",
    "plt.xlabel('Country')\n",
    "plt.xticks(range(4), ['US', 'UK', 'India', 'Canada']) # avoids tick labels overlap\n",
    "plt.show()\n"
   ]
  },
  {
   "cell_type": "markdown",
   "metadata": {
    "collapsed": true
   },
   "source": [
    "Lets remove some of the extreme outliers."
   ]
  },
  {
   "cell_type": "code",
   "execution_count": 27,
   "metadata": {
    "collapsed": true
   },
   "outputs": [],
   "source": [
    "survey5 = survey4[survey4['SpendPerMonth'] < 10000 ]"
   ]
  },
  {
   "cell_type": "code",
   "execution_count": 28,
   "metadata": {
    "collapsed": false
   },
   "outputs": [
    {
     "data": {
      "text/plain": [
       "CountryLive\n",
       "United States of America    155.459187\n",
       "India                       113.748387\n",
       "Canada                      113.510961\n",
       "United Kingdom               45.534443\n",
       "Name: SpendPerMonth, dtype: float64"
      ]
     },
     "execution_count": 28,
     "metadata": {},
     "output_type": "execute_result"
    }
   ],
   "source": [
    "countries_mean = survey5.groupby('CountryLive').mean()\n",
    "countries_mean['SpendPerMonth'].sort_values(ascending = False)"
   ]
  },
  {
   "cell_type": "code",
   "execution_count": 26,
   "metadata": {
    "collapsed": false
   },
   "outputs": [
    {
     "name": "stderr",
     "output_type": "stream",
     "text": [
      "/dataquest/system/env/python3/lib/python3.4/site-packages/seaborn/categorical.py:454: FutureWarning: remove_na is deprecated and is a private function. Do not use.\n",
      "  box_data = remove_na(group_data)\n"
     ]
    },
    {
     "data": {
      "image/png": "[encoded data removed]",
      "text/plain": [
       "<matplotlib.figure.Figure at 0x7f99992c5080>"
      ]
     },
     "metadata": {},
     "output_type": "display_data"
    }
   ],
   "source": [
    "sns.boxplot(y = 'SpendPerMonth', x = 'CountryLive',\n",
    "            data = survey5)\n",
    "plt.title('Spend Per Month Per Country',\n",
    "         fontsize = 16)\n",
    "plt.ylabel('$ Spend Per Month')\n",
    "plt.xlabel('Country')\n",
    "plt.xticks(range(4), ['US', 'UK', 'India', 'Canada']) # avoids tick labels overlap\n",
    "plt.show()"
   ]
  },
  {
   "cell_type": "code",
   "execution_count": 32,
   "metadata": {
    "collapsed": true
   },
   "outputs": [],
   "source": [
    "survey6 = survey4[survey4['SpendPerMonth'] < 100 ]"
   ]
  },
  {
   "cell_type": "code",
   "execution_count": 33,
   "metadata": {
    "collapsed": false
   },
   "outputs": [
    {
     "data": {
      "text/plain": [
       "CountryLive\n",
       "United States of America    11.105736\n",
       "United Kingdom              10.401824\n",
       "Canada                       8.797879\n",
       "India                        6.354519\n",
       "Name: SpendPerMonth, dtype: float64"
      ]
     },
     "execution_count": 33,
     "metadata": {},
     "output_type": "execute_result"
    }
   ],
   "source": [
    "countries_mean = survey6.groupby('CountryLive').mean()\n",
    "countries_mean['SpendPerMonth'].sort_values(ascending = False)"
   ]
  },
  {
   "cell_type": "code",
   "execution_count": 34,
   "metadata": {
    "collapsed": false
   },
   "outputs": [
    {
     "name": "stderr",
     "output_type": "stream",
     "text": [
      "/dataquest/system/env/python3/lib/python3.4/site-packages/seaborn/categorical.py:454: FutureWarning: remove_na is deprecated and is a private function. Do not use.\n",
      "  box_data = remove_na(group_data)\n"
     ]
    },
    {
     "data": {
      "image/png": "[encoded data removed]",
      "text/plain": [
       "<matplotlib.figure.Figure at 0x7f999924b7b8>"
      ]
     },
     "metadata": {},
     "output_type": "display_data"
    }
   ],
   "source": [
    "sns.boxplot(y = 'SpendPerMonth', x = 'CountryLive',\n",
    "            data = survey6)\n",
    "plt.title('Spend Per Month Per Country',\n",
    "         fontsize = 16)\n",
    "plt.ylabel('$ Spend Per Month')\n",
    "plt.xlabel('Country')\n",
    "plt.xticks(range(4), ['US', 'UK', 'India', 'Canada']) # avoids tick labels overlap\n",
    "plt.show()"
   ]
  },
  {
   "cell_type": "markdown",
   "metadata": {},
   "source": [
    "### Random Other"
   ]
  },
  {
   "cell_type": "code",
   "execution_count": 33,
   "metadata": {
    "collapsed": false
   },
   "outputs": [
    {
     "data": {
      "text/plain": [
       "<matplotlib.axes._subplots.AxesSubplot at 0x7f920aef6cc0>"
      ]
     },
     "execution_count": 33,
     "metadata": {},
     "output_type": "execute_result"
    },
    {
     "data": {
      "image/png": "[encoded data removed]",
      "text/plain": [
       "<matplotlib.figure.Figure at 0x7f920af41c18>"
      ]
     },
     "metadata": {},
     "output_type": "display_data"
    }
   ],
   "source": [
    "survey3['MonthsProgramming'].plot.hist(bins = 10)"
   ]
  },
  {
   "cell_type": "code",
   "execution_count": 35,
   "metadata": {
    "collapsed": false
   },
   "outputs": [
    {
     "data": {
      "text/plain": [
       "(0, 100)"
      ]
     },
     "execution_count": 35,
     "metadata": {},
     "output_type": "execute_result"
    },
    {
     "data": {
      "image/png": "[encoded data removed]",
      "text/plain": [
       "<matplotlib.figure.Figure at 0x7f920b395048>"
      ]
     },
     "metadata": {},
     "output_type": "display_data"
    }
   ],
   "source": [
    "survey3['MonthsProgramming'].plot.hist(bins = 100)\n",
    "plt.xlim(0,100)"
   ]
  },
  {
   "cell_type": "markdown",
   "metadata": {},
   "source": [
    "There is a very heavy right skew to the number of months people have been programming. This is good as people are more likely to be learning at this point."
   ]
  },
  {
   "cell_type": "code",
   "execution_count": 86,
   "metadata": {
    "collapsed": false
   },
   "outputs": [
    {
     "data": {
      "text/plain": [
       "<matplotlib.text.Text at 0x7f920a89b048>"
      ]
     },
     "execution_count": 86,
     "metadata": {},
     "output_type": "execute_result"
    },
    {
     "data": {
      "image/png": "[encoded data removed]",
      "text/plain": [
       "<matplotlib.figure.Figure at 0x7f920aa1a3c8>"
      ]
     },
     "metadata": {},
     "output_type": "display_data"
    }
   ],
   "source": [
    "plt.scatter(survey4['MonthsProgramming'], survey4['SpendPerMonth'])\n",
    "plt.xlim(0,100)\n",
    "plt.ylim(0,10000)\n",
    "plt.xlabel('Months Programming')\n",
    "plt.ylabel('$ Spend Per Month')"
   ]
  },
  {
   "cell_type": "markdown",
   "metadata": {},
   "source": [
    "Those who are willing to spend more per month have generally done far less programming which is what we would expect."
   ]
  },
  {
   "cell_type": "code",
   "execution_count": 88,
   "metadata": {
    "collapsed": false
   },
   "outputs": [
    {
     "data": {
      "text/plain": [
       "<matplotlib.text.Text at 0x7f920ab31b70>"
      ]
     },
     "execution_count": 88,
     "metadata": {},
     "output_type": "execute_result"
    },
    {
     "data": {
      "image/png": "[encoded data removed]",
      "text/plain": [
       "<matplotlib.figure.Figure at 0x7f920aae2198>"
      ]
     },
     "metadata": {},
     "output_type": "display_data"
    }
   ],
   "source": [
    "plt.scatter(survey4['MonthsProgramming'], survey4['MoneyForLearning'])\n",
    "plt.xlim(0,700)\n",
    "plt.ylim(0,10000)\n",
    "plt.xlabel('Months Programming')\n",
    "plt.ylabel('$ Money For Learning')"
   ]
  },
  {
   "cell_type": "code",
   "execution_count": null,
   "metadata": {
    "collapsed": true
   },
   "outputs": [],
   "source": []
  }
 ],
 "metadata": {
  "kernelspec": {
   "display_name": "Python 3",
   "language": "python",
   "name": "python3"
  },
  "language_info": {
   "codemirror_mode": {
    "name": "ipython",
    "version": 3
   },
   "file_extension": ".py",
   "mimetype": "text/x-python",
   "name": "python",
   "nbconvert_exporter": "python",
   "pygments_lexer": "ipython3",
   "version": "3.4.3"
  }
 },
 "nbformat": 4,
 "nbformat_minor": 2
}
